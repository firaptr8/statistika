{
  "nbformat": 4,
  "nbformat_minor": 0,
  "metadata": {
    "colab": {
      "name": "statistika.ipynb",
      "private_outputs": true,
      "provenance": [],
      "collapsed_sections": []
    },
    "kernelspec": {
      "name": "python3",
      "display_name": "Python 3"
    },
    "language_info": {
      "name": "python"
    }
  },
  "cells": [
    {
      "cell_type": "code",
      "metadata": {
        "id": "ChQh3ZT8kdC8"
      },
      "source": [
        "import pandas as pd"
      ],
      "execution_count": null,
      "outputs": []
    },
    {
      "cell_type": "code",
      "metadata": {
        "id": "iQ_ZI4OJlD9T"
      },
      "source": [
        "def faktorial(x):\n",
        "  if x == 0:\n",
        "    return 1\n",
        "  hasil = 1\n",
        "  for i in range(x,0,-1):\n",
        "    hasil = hasil*i\n",
        "  return hasil"
      ],
      "execution_count": null,
      "outputs": []
    },
    {
      "cell_type": "code",
      "metadata": {
        "id": "iTg24G4BlJU6"
      },
      "source": [
        "def probabilitas(x):\n",
        "  e = 2.71828\n",
        "  return lamda**(x) * e**(lamda)  / faktorial(x)"
      ],
      "execution_count": null,
      "outputs": []
    },
    {
      "cell_type": "code",
      "metadata": {
        "id": "vBCBHQM5lNvh"
      },
      "source": [
        "tabel = pd.read_excel('data.xlsx')\n",
        "tabel = tabel.values.tolist()\n",
        "tabel = tabel[:-1]\n",
        "jumlah_kasus = 0\n",
        "for row in tabel:\n",
        "  jumlah_kasus+= row[1]\n",
        "lamda = jumlah_kasus/12\n",
        "\n",
        "\n",
        "x = 1\n",
        "print( \"probabilitas =\", probabilitas(x))"
      ],
      "execution_count": null,
      "outputs": []
    }
  ]
}